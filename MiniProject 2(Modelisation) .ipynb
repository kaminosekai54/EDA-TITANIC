{
 "cells": [
  {
   "cell_type": "code",
   "execution_count": 340,
   "id": "d9c663cd",
   "metadata": {},
   "outputs": [],
   "source": [
    "import warnings\n",
    "\n",
    "warnings.filterwarnings('ignore')"
   ]
  },
  {
   "cell_type": "code",
   "execution_count": 341,
   "id": "33b20677",
   "metadata": {},
   "outputs": [],
   "source": [
    "# Useful packages\n",
    "\n",
    "import pandas as pd\n",
    "import seaborn as sns\n",
    "import matplotlib.pyplot as plt\n",
    "import numpy as np"
   ]
  },
  {
   "cell_type": "code",
   "execution_count": 342,
   "id": "8a4cc875",
   "metadata": {},
   "outputs": [],
   "source": [
    "# Data loading\n",
    "\n",
    "train_titanic=pd.read_csv(\"train.csv\")\n",
    "\n",
    "test_titanic=pd.read_csv(\"test.csv\")"
   ]
  },
  {
   "cell_type": "code",
   "execution_count": 343,
   "id": "d2e9ef02",
   "metadata": {},
   "outputs": [
    {
     "data": {
      "text/html": [
       "<div>\n",
       "<style scoped>\n",
       "    .dataframe tbody tr th:only-of-type {\n",
       "        vertical-align: middle;\n",
       "    }\n",
       "\n",
       "    .dataframe tbody tr th {\n",
       "        vertical-align: top;\n",
       "    }\n",
       "\n",
       "    .dataframe thead th {\n",
       "        text-align: right;\n",
       "    }\n",
       "</style>\n",
       "<table border=\"1\" class=\"dataframe\">\n",
       "  <thead>\n",
       "    <tr style=\"text-align: right;\">\n",
       "      <th></th>\n",
       "      <th>PassengerId</th>\n",
       "      <th>Survived</th>\n",
       "      <th>Pclass</th>\n",
       "      <th>Name</th>\n",
       "      <th>Sex</th>\n",
       "      <th>Age</th>\n",
       "      <th>SibSp</th>\n",
       "      <th>Parch</th>\n",
       "      <th>Ticket</th>\n",
       "      <th>Fare</th>\n",
       "      <th>Cabin</th>\n",
       "      <th>Embarked</th>\n",
       "    </tr>\n",
       "  </thead>\n",
       "  <tbody>\n",
       "    <tr>\n",
       "      <th>0</th>\n",
       "      <td>1</td>\n",
       "      <td>0</td>\n",
       "      <td>3</td>\n",
       "      <td>Braund, Mr. Owen Harris</td>\n",
       "      <td>male</td>\n",
       "      <td>22.0</td>\n",
       "      <td>1</td>\n",
       "      <td>0</td>\n",
       "      <td>A/5 21171</td>\n",
       "      <td>7.2500</td>\n",
       "      <td>NaN</td>\n",
       "      <td>S</td>\n",
       "    </tr>\n",
       "    <tr>\n",
       "      <th>1</th>\n",
       "      <td>2</td>\n",
       "      <td>1</td>\n",
       "      <td>1</td>\n",
       "      <td>Cumings, Mrs. John Bradley (Florence Briggs Th...</td>\n",
       "      <td>female</td>\n",
       "      <td>38.0</td>\n",
       "      <td>1</td>\n",
       "      <td>0</td>\n",
       "      <td>PC 17599</td>\n",
       "      <td>71.2833</td>\n",
       "      <td>C85</td>\n",
       "      <td>C</td>\n",
       "    </tr>\n",
       "  </tbody>\n",
       "</table>\n",
       "</div>"
      ],
      "text/plain": [
       "   PassengerId  Survived  Pclass  \\\n",
       "0            1         0       3   \n",
       "1            2         1       1   \n",
       "\n",
       "                                                Name     Sex   Age  SibSp  \\\n",
       "0                            Braund, Mr. Owen Harris    male  22.0      1   \n",
       "1  Cumings, Mrs. John Bradley (Florence Briggs Th...  female  38.0      1   \n",
       "\n",
       "   Parch     Ticket     Fare Cabin Embarked  \n",
       "0      0  A/5 21171   7.2500   NaN        S  \n",
       "1      0   PC 17599  71.2833   C85        C  "
      ]
     },
     "execution_count": 343,
     "metadata": {},
     "output_type": "execute_result"
    }
   ],
   "source": [
    "train_titanic.head(2)"
   ]
  },
  {
   "cell_type": "code",
   "execution_count": 344,
   "id": "4fa284b3",
   "metadata": {},
   "outputs": [
    {
     "name": "stdout",
     "output_type": "stream",
     "text": [
      "<class 'pandas.core.frame.DataFrame'>\n",
      "RangeIndex: 891 entries, 0 to 890\n",
      "Data columns (total 12 columns):\n",
      " #   Column       Non-Null Count  Dtype  \n",
      "---  ------       --------------  -----  \n",
      " 0   PassengerId  891 non-null    int64  \n",
      " 1   Survived     891 non-null    int64  \n",
      " 2   Pclass       891 non-null    int64  \n",
      " 3   Name         891 non-null    object \n",
      " 4   Sex          891 non-null    object \n",
      " 5   Age          714 non-null    float64\n",
      " 6   SibSp        891 non-null    int64  \n",
      " 7   Parch        891 non-null    int64  \n",
      " 8   Ticket       891 non-null    object \n",
      " 9   Fare         891 non-null    float64\n",
      " 10  Cabin        204 non-null    object \n",
      " 11  Embarked     889 non-null    object \n",
      "dtypes: float64(2), int64(5), object(5)\n",
      "memory usage: 83.7+ KB\n"
     ]
    }
   ],
   "source": [
    "train_titanic.info()"
   ]
  },
  {
   "cell_type": "code",
   "execution_count": 345,
   "id": "ee1070ae",
   "metadata": {},
   "outputs": [
    {
     "name": "stdout",
     "output_type": "stream",
     "text": [
      "<class 'pandas.core.frame.DataFrame'>\n",
      "RangeIndex: 418 entries, 0 to 417\n",
      "Data columns (total 11 columns):\n",
      " #   Column       Non-Null Count  Dtype  \n",
      "---  ------       --------------  -----  \n",
      " 0   PassengerId  418 non-null    int64  \n",
      " 1   Pclass       418 non-null    int64  \n",
      " 2   Name         418 non-null    object \n",
      " 3   Sex          418 non-null    object \n",
      " 4   Age          332 non-null    float64\n",
      " 5   SibSp        418 non-null    int64  \n",
      " 6   Parch        418 non-null    int64  \n",
      " 7   Ticket       418 non-null    object \n",
      " 8   Fare         417 non-null    float64\n",
      " 9   Cabin        91 non-null     object \n",
      " 10  Embarked     418 non-null    object \n",
      "dtypes: float64(2), int64(4), object(5)\n",
      "memory usage: 36.0+ KB\n"
     ]
    }
   ],
   "source": [
    "test_titanic.info()"
   ]
  },
  {
   "cell_type": "markdown",
   "id": "6f58fa5f",
   "metadata": {},
   "source": [
    "## Data description"
   ]
  },
  {
   "cell_type": "markdown",
   "id": "a93738b0",
   "metadata": {},
   "source": [
    "We have eleven variables:\n",
    "\n",
    "    - PassengerId: Primary key that are unique for each passenger\n",
    "    - Survived: feature that gives information about the status of a passenger after accident,\n",
    "    (0/1)-(Died/Survived)\n",
    "    - Pclass: The class that the passager was embarked\n",
    "    - Name: Name of the passenger\n",
    "    - Sex: gender of the passenger\n",
    "    - Age : Age of passenger\n",
    "    - SibSp: Number of siblings/spouse on board of titanic\n",
    "    - Parch: Number of parent/children on board of titanic\n",
    "    - Ticket: Ticket number\n",
    "    - Fare: Price of passenger's ticket \n",
    "    - Cabin: Cabin number\n",
    "    - Embarked: Port of embarkation"
   ]
  },
  {
   "cell_type": "markdown",
   "id": "1f50c2a0",
   "metadata": {},
   "source": [
    "### Feature engineering"
   ]
  },
  {
   "cell_type": "markdown",
   "id": "a1d42e28",
   "metadata": {},
   "source": [
    "As we have a contraint to respect the submission file structure and his shape. We can't drop any line. Then we will deal with missing value by trying different method of filling these missing and consider the best predictablility outcome."
   ]
  },
  {
   "cell_type": "code",
   "execution_count": 346,
   "id": "b048aece",
   "metadata": {},
   "outputs": [],
   "source": [
    "# Fill embarked nan value\n",
    "\n",
    "train_titanic[\"Embarked\"]=train_titanic[\"Embarked\"].fillna(train_titanic[\"Embarked\"].mode().iloc[0])\n",
    "test_titanic[\"Embarked\"]=test_titanic[\"Embarked\"].fillna(test_titanic[\"Embarked\"].mode().iloc[0])"
   ]
  },
  {
   "cell_type": "code",
   "execution_count": 347,
   "id": "e4332a8d",
   "metadata": {},
   "outputs": [],
   "source": [
    "# According to the evolution of distribution before and after filling we will consider [\"nearest\",\"linear\"]\n",
    "\n",
    "def fill_nan_age(df,method):\n",
    "    \n",
    "    df[\"Age\"]=df[\"Age\"].interpolate(method =method, limit_direction ='forward')\n",
    "\n",
    "    return df\n",
    "\n",
    "train_titanic=fill_nan_age(train_titanic,method='nearest')\n",
    "\n",
    "test_titanic=fill_nan_age(test_titanic,method=\"nearest\")\n",
    "\n",
    "test_titanic=fill_nan_age(test_titanic,method='barycentric')\n"
   ]
  },
  {
   "cell_type": "code",
   "execution_count": 348,
   "id": "e41d9fd0",
   "metadata": {},
   "outputs": [
    {
     "data": {
      "text/html": [
       "<div>\n",
       "<style scoped>\n",
       "    .dataframe tbody tr th:only-of-type {\n",
       "        vertical-align: middle;\n",
       "    }\n",
       "\n",
       "    .dataframe tbody tr th {\n",
       "        vertical-align: top;\n",
       "    }\n",
       "\n",
       "    .dataframe thead th {\n",
       "        text-align: right;\n",
       "    }\n",
       "</style>\n",
       "<table border=\"1\" class=\"dataframe\">\n",
       "  <thead>\n",
       "    <tr style=\"text-align: right;\">\n",
       "      <th></th>\n",
       "      <th>PassengerId</th>\n",
       "      <th>Pclass</th>\n",
       "      <th>Name</th>\n",
       "      <th>Sex</th>\n",
       "      <th>Age</th>\n",
       "      <th>SibSp</th>\n",
       "      <th>Parch</th>\n",
       "      <th>Ticket</th>\n",
       "      <th>Fare</th>\n",
       "      <th>Cabin</th>\n",
       "      <th>Embarked</th>\n",
       "    </tr>\n",
       "  </thead>\n",
       "  <tbody>\n",
       "    <tr>\n",
       "      <th>152</th>\n",
       "      <td>1044</td>\n",
       "      <td>3</td>\n",
       "      <td>Storey, Mr. Thomas</td>\n",
       "      <td>male</td>\n",
       "      <td>60.5</td>\n",
       "      <td>0</td>\n",
       "      <td>0</td>\n",
       "      <td>3701</td>\n",
       "      <td>NaN</td>\n",
       "      <td>NaN</td>\n",
       "      <td>S</td>\n",
       "    </tr>\n",
       "  </tbody>\n",
       "</table>\n",
       "</div>"
      ],
      "text/plain": [
       "     PassengerId  Pclass                Name   Sex   Age  SibSp  Parch Ticket  \\\n",
       "152         1044       3  Storey, Mr. Thomas  male  60.5      0      0   3701   \n",
       "\n",
       "     Fare Cabin Embarked  \n",
       "152   NaN   NaN        S  "
      ]
     },
     "execution_count": 348,
     "metadata": {},
     "output_type": "execute_result"
    }
   ],
   "source": [
    "## Fill fare NaN in test_titanic\n",
    "test_titanic[test_titanic[\"Fare\"].isna()]"
   ]
  },
  {
   "cell_type": "code",
   "execution_count": 349,
   "id": "f58420ef",
   "metadata": {},
   "outputs": [
    {
     "data": {
      "text/html": [
       "<div>\n",
       "<style scoped>\n",
       "    .dataframe tbody tr th:only-of-type {\n",
       "        vertical-align: middle;\n",
       "    }\n",
       "\n",
       "    .dataframe tbody tr th {\n",
       "        vertical-align: top;\n",
       "    }\n",
       "\n",
       "    .dataframe thead th {\n",
       "        text-align: right;\n",
       "    }\n",
       "</style>\n",
       "<table border=\"1\" class=\"dataframe\">\n",
       "  <thead>\n",
       "    <tr style=\"text-align: right;\">\n",
       "      <th></th>\n",
       "      <th>PassengerId</th>\n",
       "      <th>Pclass</th>\n",
       "      <th>Name</th>\n",
       "      <th>Sex</th>\n",
       "      <th>Age</th>\n",
       "      <th>SibSp</th>\n",
       "      <th>Parch</th>\n",
       "      <th>Ticket</th>\n",
       "      <th>Fare</th>\n",
       "      <th>Cabin</th>\n",
       "      <th>Embarked</th>\n",
       "    </tr>\n",
       "  </thead>\n",
       "  <tbody>\n",
       "    <tr>\n",
       "      <th>152</th>\n",
       "      <td>1044</td>\n",
       "      <td>3</td>\n",
       "      <td>Storey, Mr. Thomas</td>\n",
       "      <td>male</td>\n",
       "      <td>60.5</td>\n",
       "      <td>0</td>\n",
       "      <td>0</td>\n",
       "      <td>3701</td>\n",
       "      <td>NaN</td>\n",
       "      <td>NaN</td>\n",
       "      <td>S</td>\n",
       "    </tr>\n",
       "    <tr>\n",
       "      <th>344</th>\n",
       "      <td>1236</td>\n",
       "      <td>3</td>\n",
       "      <td>van Billiard, Master. James William</td>\n",
       "      <td>male</td>\n",
       "      <td>58.0</td>\n",
       "      <td>1</td>\n",
       "      <td>1</td>\n",
       "      <td>A/5. 851</td>\n",
       "      <td>14.5000</td>\n",
       "      <td>NaN</td>\n",
       "      <td>S</td>\n",
       "    </tr>\n",
       "    <tr>\n",
       "      <th>357</th>\n",
       "      <td>1249</td>\n",
       "      <td>3</td>\n",
       "      <td>Lockyer, Mr. Edward</td>\n",
       "      <td>male</td>\n",
       "      <td>59.0</td>\n",
       "      <td>0</td>\n",
       "      <td>0</td>\n",
       "      <td>1222</td>\n",
       "      <td>7.8792</td>\n",
       "      <td>NaN</td>\n",
       "      <td>S</td>\n",
       "    </tr>\n",
       "  </tbody>\n",
       "</table>\n",
       "</div>"
      ],
      "text/plain": [
       "     PassengerId  Pclass                                 Name   Sex   Age  \\\n",
       "152         1044       3                   Storey, Mr. Thomas  male  60.5   \n",
       "344         1236       3  van Billiard, Master. James William  male  58.0   \n",
       "357         1249       3                  Lockyer, Mr. Edward  male  59.0   \n",
       "\n",
       "     SibSp  Parch    Ticket     Fare Cabin Embarked  \n",
       "152      0      0      3701      NaN   NaN        S  \n",
       "344      1      1  A/5. 851  14.5000   NaN        S  \n",
       "357      0      0      1222   7.8792   NaN        S  "
      ]
     },
     "execution_count": 349,
     "metadata": {},
     "output_type": "execute_result"
    }
   ],
   "source": [
    "test_titanic[test_titanic[\"Pclass\"]==3][test_titanic[\"Age\"]>=58]"
   ]
  },
  {
   "cell_type": "code",
   "execution_count": 350,
   "id": "bf2d8095",
   "metadata": {},
   "outputs": [],
   "source": [
    "#Based on Age and Pclass, I will with fare value that is near of \n",
    "# the age of missing observation and according to the class related\n",
    "test_titanic[\"Fare\"]=test_titanic[\"Fare\"].replace(np.NaN,14.5)"
   ]
  },
  {
   "cell_type": "markdown",
   "id": "f46a2f42",
   "metadata": {},
   "source": [
    "#### Hypothesis\n",
    "\n",
    "Is it possible to predict cabin based on they paid and the chance of surviving?\n",
    "\n",
    "### Question\n",
    "How to split Fare to match the correct Cabin?"
   ]
  },
  {
   "cell_type": "code",
   "execution_count": 351,
   "id": "7ed2bd36",
   "metadata": {},
   "outputs": [],
   "source": [
    "#https://titanic.fandom.com/wiki/First_Class_Staterooms#A_Deck\n",
    "\n",
    "class_1=['A','B','C','D','E']\n",
    "privileged=['B51','B53','B54','B55','B56']\n",
    "class_2=[]\n",
    "class_3=[]\n",
    "\n",
    "#train_titanic[\"Cabin\"].unique()"
   ]
  },
  {
   "cell_type": "code",
   "execution_count": 352,
   "id": "9e8654be",
   "metadata": {},
   "outputs": [
    {
     "data": {
      "text/plain": [
       "0.16498316498316498"
      ]
     },
     "execution_count": 352,
     "metadata": {},
     "output_type": "execute_result"
    }
   ],
   "source": [
    "train_titanic[\"Cabin\"].dropna().nunique()/train_titanic.shape[0]"
   ]
  },
  {
   "cell_type": "markdown",
   "id": "92367916",
   "metadata": {},
   "source": [
    "We have just 16.5% of unique cabin number. Then it will be interesting if we have at least one available value for cabin label for each unique prices."
   ]
  },
  {
   "cell_type": "code",
   "execution_count": 353,
   "id": "186d891f",
   "metadata": {},
   "outputs": [
    {
     "data": {
      "text/plain": [
       "0.2783389450056117"
      ]
     },
     "execution_count": 353,
     "metadata": {},
     "output_type": "execute_result"
    }
   ],
   "source": [
    "train_titanic[\"Fare\"].nunique()/train_titanic.shape[0]"
   ]
  },
  {
   "cell_type": "markdown",
   "id": "00ee5f64",
   "metadata": {},
   "source": [
    "So interesting because there are many redundant price then it mean that cabin and class will be positive associated with Fare then we can fill `NaN` with more sure value."
   ]
  },
  {
   "cell_type": "code",
   "execution_count": 354,
   "id": "eff09905",
   "metadata": {},
   "outputs": [],
   "source": [
    "def check_list_items(l):\n",
    "\n",
    "    for item in l:\n",
    "\n",
    "        if str(item)!='nan':\n",
    "\n",
    "            return item\n",
    "\n",
    "    return np.NaN\n",
    "    \n",
    "def get_unique_cabin_per_fare(train_titanic):\n",
    "    \n",
    "    final_fare_label=dict()\n",
    "\n",
    "    train_titanic[\"Fare\"]=train_titanic[\"Fare\"].astype('int64')\n",
    "\n",
    "    nan_cabin_fare=[]\n",
    "\n",
    "    for fare in train_titanic[train_titanic[\"Cabin\"].isna()][\"Fare\"].unique():\n",
    "        \n",
    "        relate_cabin=[]\n",
    "\n",
    "        for cabin in train_titanic[train_titanic[\"Fare\"]==fare][\"Cabin\"]:\n",
    "\n",
    "            if cabin not in relate_cabin:\n",
    "\n",
    "                relate_cabin.append(cabin)\n",
    "        \n",
    "        final_fare_label[fare]=check_list_items(relate_cabin)\n",
    "    \n",
    "    return final_fare_label"
   ]
  },
  {
   "cell_type": "code",
   "execution_count": 355,
   "id": "1a95a060",
   "metadata": {},
   "outputs": [],
   "source": [
    "final_fare_label_train=get_unique_cabin_per_fare(train_titanic)\n",
    "final_fare_label_test=get_unique_cabin_per_fare(test_titanic)"
   ]
  },
  {
   "cell_type": "code",
   "execution_count": 356,
   "id": "f5cdd500",
   "metadata": {},
   "outputs": [],
   "source": [
    "def get_not_defined_cabin_fare(final_fare_label):\n",
    "\n",
    "    fares_nan=[]\n",
    "    fares_defined={}\n",
    "\n",
    "    for fare in final_fare_label.keys():\n",
    "\n",
    "        if str(final_fare_label[fare])=='nan':\n",
    "\n",
    "            fares_nan.append(fare)\n",
    "        \n",
    "        else:\n",
    "\n",
    "            fares_defined[fare]=final_fare_label[fare]\n",
    "\n",
    "    return fares_defined,fares_nan"
   ]
  },
  {
   "cell_type": "code",
   "execution_count": 357,
   "id": "e5e05e4c",
   "metadata": {},
   "outputs": [],
   "source": [
    "fares_defined_train,fares_nan_train=get_not_defined_cabin_fare(final_fare_label_train)\n",
    "fares_defined_test,fares_nan_test=get_not_defined_cabin_fare(final_fare_label_test)"
   ]
  },
  {
   "cell_type": "code",
   "execution_count": 358,
   "id": "78c8965f",
   "metadata": {},
   "outputs": [],
   "source": [
    "#\n",
    "\n",
    "def find_most_likely_cabin(fares_defined,fares_nan):\n",
    "\n",
    "    most_likely_cabin={}\n",
    "\n",
    "    for fare in fares_nan:\n",
    "\n",
    "        difference=abs(list(fares_defined.keys())-fare)\n",
    "        \n",
    "        index=list(difference).index(min(difference))\n",
    "\n",
    "        most_likely_cabin[fare]=list(fares_defined.values())[index]\n",
    "\n",
    "    return most_likely_cabin"
   ]
  },
  {
   "cell_type": "code",
   "execution_count": 359,
   "id": "be0cd11b",
   "metadata": {},
   "outputs": [],
   "source": [
    "most_likely_cabin_train=find_most_likely_cabin(fares_defined_train,fares_nan_train)\n",
    "most_likely_cabin_test=find_most_likely_cabin(fares_defined_test,fares_nan_test)"
   ]
  },
  {
   "cell_type": "code",
   "execution_count": 360,
   "id": "f6209784",
   "metadata": {},
   "outputs": [],
   "source": [
    "fares_defined_train.update(most_likely_cabin_train)\n",
    "\n",
    "fares_defined_test.update(most_likely_cabin_test)"
   ]
  },
  {
   "cell_type": "code",
   "execution_count": 361,
   "id": "7ec1353b",
   "metadata": {},
   "outputs": [],
   "source": [
    "#Creating new columns for cabin\n",
    "\n",
    "def construct_new_cabin_col(train_titanic,fares_defined):\n",
    "\n",
    "    col_Cabin={'Fare':[]}\n",
    "\n",
    "    for fare,cabin in zip(train_titanic[\"Fare\"],train_titanic[\"Cabin\"]):\n",
    "\n",
    "        if str(cabin)=='nan':\n",
    "\n",
    "            col_Cabin['Fare'].append(fares_defined[fare])\n",
    "\n",
    "        else:\n",
    "            \n",
    "            col_Cabin['Fare'].append(cabin)\n",
    "    \n",
    "    return col_Cabin"
   ]
  },
  {
   "cell_type": "code",
   "execution_count": 362,
   "id": "5aa8d8a0",
   "metadata": {},
   "outputs": [],
   "source": [
    "col_cabin_train=construct_new_cabin_col(train_titanic,fares_defined_train)\n",
    "\n",
    "col_cabin_test=construct_new_cabin_col(test_titanic,fares_defined_test)"
   ]
  },
  {
   "cell_type": "code",
   "execution_count": 363,
   "id": "40bff39d",
   "metadata": {},
   "outputs": [],
   "source": [
    "train_titanic[\"Cabin_new\"]=col_cabin_train[\"Fare\"]\n",
    "test_titanic[\"Cabin_new\"]=col_cabin_test[\"Fare\"]"
   ]
  },
  {
   "cell_type": "code",
   "execution_count": 364,
   "id": "d6d1d3dc",
   "metadata": {},
   "outputs": [
    {
     "data": {
      "text/plain": [
       "PassengerId      0\n",
       "Survived         0\n",
       "Pclass           0\n",
       "Name             0\n",
       "Sex              0\n",
       "Age              0\n",
       "SibSp            0\n",
       "Parch            0\n",
       "Ticket           0\n",
       "Fare             0\n",
       "Cabin          687\n",
       "Embarked         0\n",
       "Cabin_new        0\n",
       "dtype: int64"
      ]
     },
     "execution_count": 364,
     "metadata": {},
     "output_type": "execute_result"
    }
   ],
   "source": [
    "train_titanic.isna().sum()"
   ]
  },
  {
   "cell_type": "code",
   "execution_count": 365,
   "id": "29e2fe81",
   "metadata": {},
   "outputs": [
    {
     "data": {
      "text/plain": [
       "PassengerId      0\n",
       "Pclass           0\n",
       "Name             0\n",
       "Sex              0\n",
       "Age              0\n",
       "SibSp            0\n",
       "Parch            0\n",
       "Ticket           0\n",
       "Fare             0\n",
       "Cabin          327\n",
       "Embarked         0\n",
       "Cabin_new        0\n",
       "dtype: int64"
      ]
     },
     "execution_count": 365,
     "metadata": {},
     "output_type": "execute_result"
    }
   ],
   "source": [
    "test_titanic.isna().sum()"
   ]
  },
  {
   "cell_type": "code",
   "execution_count": 366,
   "id": "25e68de3",
   "metadata": {},
   "outputs": [
    {
     "data": {
      "text/html": [
       "<div>\n",
       "<style scoped>\n",
       "    .dataframe tbody tr th:only-of-type {\n",
       "        vertical-align: middle;\n",
       "    }\n",
       "\n",
       "    .dataframe tbody tr th {\n",
       "        vertical-align: top;\n",
       "    }\n",
       "\n",
       "    .dataframe thead th {\n",
       "        text-align: right;\n",
       "    }\n",
       "</style>\n",
       "<table border=\"1\" class=\"dataframe\">\n",
       "  <thead>\n",
       "    <tr style=\"text-align: right;\">\n",
       "      <th></th>\n",
       "      <th>PassengerId</th>\n",
       "      <th>Survived</th>\n",
       "      <th>Pclass</th>\n",
       "      <th>Name</th>\n",
       "      <th>Sex</th>\n",
       "      <th>Age</th>\n",
       "      <th>SibSp</th>\n",
       "      <th>Parch</th>\n",
       "      <th>Ticket</th>\n",
       "      <th>Fare</th>\n",
       "      <th>Cabin</th>\n",
       "      <th>Embarked</th>\n",
       "      <th>Cabin_new</th>\n",
       "    </tr>\n",
       "  </thead>\n",
       "  <tbody>\n",
       "    <tr>\n",
       "      <th>0</th>\n",
       "      <td>1</td>\n",
       "      <td>0</td>\n",
       "      <td>3</td>\n",
       "      <td>Braund, Mr. Owen Harris</td>\n",
       "      <td>male</td>\n",
       "      <td>22.0</td>\n",
       "      <td>1</td>\n",
       "      <td>0</td>\n",
       "      <td>A/5 21171</td>\n",
       "      <td>7</td>\n",
       "      <td>NaN</td>\n",
       "      <td>S</td>\n",
       "      <td>F G73</td>\n",
       "    </tr>\n",
       "    <tr>\n",
       "      <th>1</th>\n",
       "      <td>2</td>\n",
       "      <td>1</td>\n",
       "      <td>1</td>\n",
       "      <td>Cumings, Mrs. John Bradley (Florence Briggs Th...</td>\n",
       "      <td>female</td>\n",
       "      <td>38.0</td>\n",
       "      <td>1</td>\n",
       "      <td>0</td>\n",
       "      <td>PC 17599</td>\n",
       "      <td>71</td>\n",
       "      <td>C85</td>\n",
       "      <td>C</td>\n",
       "      <td>C85</td>\n",
       "    </tr>\n",
       "  </tbody>\n",
       "</table>\n",
       "</div>"
      ],
      "text/plain": [
       "   PassengerId  Survived  Pclass  \\\n",
       "0            1         0       3   \n",
       "1            2         1       1   \n",
       "\n",
       "                                                Name     Sex   Age  SibSp  \\\n",
       "0                            Braund, Mr. Owen Harris    male  22.0      1   \n",
       "1  Cumings, Mrs. John Bradley (Florence Briggs Th...  female  38.0      1   \n",
       "\n",
       "   Parch     Ticket  Fare Cabin Embarked Cabin_new  \n",
       "0      0  A/5 21171     7   NaN        S     F G73  \n",
       "1      0   PC 17599    71   C85        C       C85  "
      ]
     },
     "execution_count": 366,
     "metadata": {},
     "output_type": "execute_result"
    }
   ],
   "source": [
    "train_titanic.head(2)"
   ]
  },
  {
   "cell_type": "markdown",
   "id": "db1dcb64",
   "metadata": {},
   "source": [
    "### Encodage des variables"
   ]
  },
  {
   "cell_type": "code",
   "execution_count": 367,
   "id": "fe3e3fa4",
   "metadata": {},
   "outputs": [],
   "source": [
    "#Train data\n",
    "\n",
    "train_titanic['Pclass']=train_titanic['Pclass'].astype('category')\n",
    "\n",
    "train_titanic=train_titanic.drop(columns=[\"Name\",\"Cabin\",\"Ticket\"])\n",
    "\n",
    "# Test data\n",
    "\n",
    "test_titanic['Pclass']=test_titanic['Pclass'].astype('category')\n",
    "\n",
    "test_titanic=test_titanic.drop(columns=[\"Name\",\"Cabin\",\"Ticket\"])"
   ]
  },
  {
   "cell_type": "code",
   "execution_count": 368,
   "id": "602ffb07",
   "metadata": {},
   "outputs": [],
   "source": [
    "\n",
    "train_titanic['Cabin_new']=train_titanic['Cabin_new'].apply(lambda x:str(x).strip()[0])\n",
    "\n",
    "test_titanic['Cabin_new']=test_titanic['Cabin_new'].apply(lambda x:str(x).strip()[0])"
   ]
  },
  {
   "cell_type": "code",
   "execution_count": 369,
   "id": "0f5195d8",
   "metadata": {},
   "outputs": [
    {
     "data": {
      "text/html": [
       "<div>\n",
       "<style scoped>\n",
       "    .dataframe tbody tr th:only-of-type {\n",
       "        vertical-align: middle;\n",
       "    }\n",
       "\n",
       "    .dataframe tbody tr th {\n",
       "        vertical-align: top;\n",
       "    }\n",
       "\n",
       "    .dataframe thead th {\n",
       "        text-align: right;\n",
       "    }\n",
       "</style>\n",
       "<table border=\"1\" class=\"dataframe\">\n",
       "  <thead>\n",
       "    <tr style=\"text-align: right;\">\n",
       "      <th></th>\n",
       "      <th>PassengerId</th>\n",
       "      <th>Survived</th>\n",
       "      <th>Pclass</th>\n",
       "      <th>Sex</th>\n",
       "      <th>Age</th>\n",
       "      <th>SibSp</th>\n",
       "      <th>Parch</th>\n",
       "      <th>Fare</th>\n",
       "      <th>Embarked</th>\n",
       "      <th>Cabin_new</th>\n",
       "    </tr>\n",
       "  </thead>\n",
       "  <tbody>\n",
       "    <tr>\n",
       "      <th>23</th>\n",
       "      <td>24</td>\n",
       "      <td>1</td>\n",
       "      <td>1</td>\n",
       "      <td>male</td>\n",
       "      <td>28.0</td>\n",
       "      <td>0</td>\n",
       "      <td>0</td>\n",
       "      <td>35</td>\n",
       "      <td>S</td>\n",
       "      <td>A</td>\n",
       "    </tr>\n",
       "    <tr>\n",
       "      <th>55</th>\n",
       "      <td>56</td>\n",
       "      <td>1</td>\n",
       "      <td>1</td>\n",
       "      <td>male</td>\n",
       "      <td>65.0</td>\n",
       "      <td>0</td>\n",
       "      <td>0</td>\n",
       "      <td>35</td>\n",
       "      <td>S</td>\n",
       "      <td>C</td>\n",
       "    </tr>\n",
       "    <tr>\n",
       "      <th>339</th>\n",
       "      <td>340</td>\n",
       "      <td>0</td>\n",
       "      <td>1</td>\n",
       "      <td>male</td>\n",
       "      <td>45.0</td>\n",
       "      <td>0</td>\n",
       "      <td>0</td>\n",
       "      <td>35</td>\n",
       "      <td>S</td>\n",
       "      <td>T</td>\n",
       "    </tr>\n",
       "    <tr>\n",
       "      <th>351</th>\n",
       "      <td>352</td>\n",
       "      <td>0</td>\n",
       "      <td>1</td>\n",
       "      <td>male</td>\n",
       "      <td>23.0</td>\n",
       "      <td>0</td>\n",
       "      <td>0</td>\n",
       "      <td>35</td>\n",
       "      <td>S</td>\n",
       "      <td>C</td>\n",
       "    </tr>\n",
       "    <tr>\n",
       "      <th>647</th>\n",
       "      <td>648</td>\n",
       "      <td>1</td>\n",
       "      <td>1</td>\n",
       "      <td>male</td>\n",
       "      <td>56.0</td>\n",
       "      <td>0</td>\n",
       "      <td>0</td>\n",
       "      <td>35</td>\n",
       "      <td>C</td>\n",
       "      <td>A</td>\n",
       "    </tr>\n",
       "  </tbody>\n",
       "</table>\n",
       "</div>"
      ],
      "text/plain": [
       "     PassengerId  Survived Pclass   Sex   Age  SibSp  Parch  Fare Embarked  \\\n",
       "23            24         1      1  male  28.0      0      0    35        S   \n",
       "55            56         1      1  male  65.0      0      0    35        S   \n",
       "339          340         0      1  male  45.0      0      0    35        S   \n",
       "351          352         0      1  male  23.0      0      0    35        S   \n",
       "647          648         1      1  male  56.0      0      0    35        C   \n",
       "\n",
       "    Cabin_new  \n",
       "23          A  \n",
       "55          C  \n",
       "339         T  \n",
       "351         C  \n",
       "647         A  "
      ]
     },
     "execution_count": 369,
     "metadata": {},
     "output_type": "execute_result"
    }
   ],
   "source": [
    "train_titanic[train_titanic[\"Fare\"]==35]"
   ]
  },
  {
   "cell_type": "code",
   "execution_count": 370,
   "id": "ac511b87",
   "metadata": {},
   "outputs": [],
   "source": [
    "# As there are no cabin with T in test set then to keep the same format in test and train set\n",
    "# We will replace T by C that is more similar to this view based on other attributes\n",
    "\n",
    "train_titanic['Cabin_new']=train_titanic['Cabin_new'].replace('T','C') "
   ]
  },
  {
   "cell_type": "code",
   "execution_count": 371,
   "id": "81adc845",
   "metadata": {},
   "outputs": [
    {
     "data": {
      "text/plain": [
       "array(['F', 'C', 'E', 'A', 'G', 'D', 'B'], dtype=object)"
      ]
     },
     "execution_count": 371,
     "metadata": {},
     "output_type": "execute_result"
    }
   ],
   "source": [
    "train_titanic[\"Cabin_new\"].unique()"
   ]
  },
  {
   "cell_type": "code",
   "execution_count": 372,
   "id": "05190bfe",
   "metadata": {},
   "outputs": [
    {
     "data": {
      "text/plain": [
       "((891, 20), (418, 19))"
      ]
     },
     "execution_count": 372,
     "metadata": {},
     "output_type": "execute_result"
    }
   ],
   "source": [
    "train_titanic_numeric=pd.get_dummies(train_titanic.drop(columns=[\"PassengerId\"]))\n",
    "\n",
    "test_titanic_numeric=pd.get_dummies(test_titanic.drop(columns=[\"PassengerId\"]))\n",
    "\n",
    "train_titanic_numeric.shape,test_titanic_numeric.shape"
   ]
  },
  {
   "cell_type": "markdown",
   "id": "be0e2607",
   "metadata": {},
   "source": [
    "### Modelisation"
   ]
  },
  {
   "cell_type": "code",
   "execution_count": 373,
   "id": "20afc86f",
   "metadata": {},
   "outputs": [],
   "source": [
    "from sklearn.linear_model import LogisticRegression\n",
    "\n",
    "from sklearn.discriminant_analysis import LinearDiscriminantAnalysis\n",
    "\n",
    "from sklearn.neighbors import KNeighborsClassifier\n",
    "\n",
    "from sklearn.model_selection import train_test_split\n",
    "\n",
    "from sklearn.metrics import classification_report,confusion_matrix"
   ]
  },
  {
   "cell_type": "code",
   "execution_count": 374,
   "id": "ae3baaab",
   "metadata": {},
   "outputs": [],
   "source": [
    "lr_model=LogisticRegression(penalty=\"l2\",class_weight=\"balanced\")\n",
    "LDA=LinearDiscriminantAnalysis()\n",
    "KNN=KNeighborsClassifier(n_neighbors=2,n_jobs=-1)"
   ]
  },
  {
   "cell_type": "code",
   "execution_count": 375,
   "id": "baed2b72",
   "metadata": {},
   "outputs": [],
   "source": [
    "y=train_titanic_numeric[\"Survived\"]\n",
    "X=train_titanic_numeric.drop(columns=[\"Survived\"])"
   ]
  },
  {
   "cell_type": "code",
   "execution_count": 376,
   "id": "d69511a3",
   "metadata": {},
   "outputs": [],
   "source": [
    "X_train,X_valid,y_train,y_valid=train_test_split(X,y,test_size=.1)"
   ]
  },
  {
   "cell_type": "code",
   "execution_count": 377,
   "id": "3ca14819",
   "metadata": {},
   "outputs": [
    {
     "data": {
      "text/html": [
       "<style>#sk-container-id-5 {color: black;background-color: white;}#sk-container-id-5 pre{padding: 0;}#sk-container-id-5 div.sk-toggleable {background-color: white;}#sk-container-id-5 label.sk-toggleable__label {cursor: pointer;display: block;width: 100%;margin-bottom: 0;padding: 0.3em;box-sizing: border-box;text-align: center;}#sk-container-id-5 label.sk-toggleable__label-arrow:before {content: \"▸\";float: left;margin-right: 0.25em;color: #696969;}#sk-container-id-5 label.sk-toggleable__label-arrow:hover:before {color: black;}#sk-container-id-5 div.sk-estimator:hover label.sk-toggleable__label-arrow:before {color: black;}#sk-container-id-5 div.sk-toggleable__content {max-height: 0;max-width: 0;overflow: hidden;text-align: left;background-color: #f0f8ff;}#sk-container-id-5 div.sk-toggleable__content pre {margin: 0.2em;color: black;border-radius: 0.25em;background-color: #f0f8ff;}#sk-container-id-5 input.sk-toggleable__control:checked~div.sk-toggleable__content {max-height: 200px;max-width: 100%;overflow: auto;}#sk-container-id-5 input.sk-toggleable__control:checked~label.sk-toggleable__label-arrow:before {content: \"▾\";}#sk-container-id-5 div.sk-estimator input.sk-toggleable__control:checked~label.sk-toggleable__label {background-color: #d4ebff;}#sk-container-id-5 div.sk-label input.sk-toggleable__control:checked~label.sk-toggleable__label {background-color: #d4ebff;}#sk-container-id-5 input.sk-hidden--visually {border: 0;clip: rect(1px 1px 1px 1px);clip: rect(1px, 1px, 1px, 1px);height: 1px;margin: -1px;overflow: hidden;padding: 0;position: absolute;width: 1px;}#sk-container-id-5 div.sk-estimator {font-family: monospace;background-color: #f0f8ff;border: 1px dotted black;border-radius: 0.25em;box-sizing: border-box;margin-bottom: 0.5em;}#sk-container-id-5 div.sk-estimator:hover {background-color: #d4ebff;}#sk-container-id-5 div.sk-parallel-item::after {content: \"\";width: 100%;border-bottom: 1px solid gray;flex-grow: 1;}#sk-container-id-5 div.sk-label:hover label.sk-toggleable__label {background-color: #d4ebff;}#sk-container-id-5 div.sk-serial::before {content: \"\";position: absolute;border-left: 1px solid gray;box-sizing: border-box;top: 0;bottom: 0;left: 50%;z-index: 0;}#sk-container-id-5 div.sk-serial {display: flex;flex-direction: column;align-items: center;background-color: white;padding-right: 0.2em;padding-left: 0.2em;position: relative;}#sk-container-id-5 div.sk-item {position: relative;z-index: 1;}#sk-container-id-5 div.sk-parallel {display: flex;align-items: stretch;justify-content: center;background-color: white;position: relative;}#sk-container-id-5 div.sk-item::before, #sk-container-id-5 div.sk-parallel-item::before {content: \"\";position: absolute;border-left: 1px solid gray;box-sizing: border-box;top: 0;bottom: 0;left: 50%;z-index: -1;}#sk-container-id-5 div.sk-parallel-item {display: flex;flex-direction: column;z-index: 1;position: relative;background-color: white;}#sk-container-id-5 div.sk-parallel-item:first-child::after {align-self: flex-end;width: 50%;}#sk-container-id-5 div.sk-parallel-item:last-child::after {align-self: flex-start;width: 50%;}#sk-container-id-5 div.sk-parallel-item:only-child::after {width: 0;}#sk-container-id-5 div.sk-dashed-wrapped {border: 1px dashed gray;margin: 0 0.4em 0.5em 0.4em;box-sizing: border-box;padding-bottom: 0.4em;background-color: white;}#sk-container-id-5 div.sk-label label {font-family: monospace;font-weight: bold;display: inline-block;line-height: 1.2em;}#sk-container-id-5 div.sk-label-container {text-align: center;}#sk-container-id-5 div.sk-container {/* jupyter's `normalize.less` sets `[hidden] { display: none; }` but bootstrap.min.css set `[hidden] { display: none !important; }` so we also need the `!important` here to be able to override the default hidden behavior on the sphinx rendered scikit-learn.org. See: https://github.com/scikit-learn/scikit-learn/issues/21755 */display: inline-block !important;position: relative;}#sk-container-id-5 div.sk-text-repr-fallback {display: none;}</style><div id=\"sk-container-id-5\" class=\"sk-top-container\"><div class=\"sk-text-repr-fallback\"><pre>KNeighborsClassifier(n_jobs=-1, n_neighbors=2)</pre><b>In a Jupyter environment, please rerun this cell to show the HTML representation or trust the notebook. <br />On GitHub, the HTML representation is unable to render, please try loading this page with nbviewer.org.</b></div><div class=\"sk-container\" hidden><div class=\"sk-item\"><div class=\"sk-estimator sk-toggleable\"><input class=\"sk-toggleable__control sk-hidden--visually\" id=\"sk-estimator-id-5\" type=\"checkbox\" checked><label for=\"sk-estimator-id-5\" class=\"sk-toggleable__label sk-toggleable__label-arrow\">KNeighborsClassifier</label><div class=\"sk-toggleable__content\"><pre>KNeighborsClassifier(n_jobs=-1, n_neighbors=2)</pre></div></div></div></div></div>"
      ],
      "text/plain": [
       "KNeighborsClassifier(n_jobs=-1, n_neighbors=2)"
      ]
     },
     "execution_count": 377,
     "metadata": {},
     "output_type": "execute_result"
    }
   ],
   "source": [
    "lr_model.fit(X_train,y_train)\n",
    "LDA.fit(X_train,y_train)\n",
    "KNN.fit(X_train,y_train)\n"
   ]
  },
  {
   "cell_type": "code",
   "execution_count": 378,
   "id": "d8fdd9c3",
   "metadata": {},
   "outputs": [
    {
     "data": {
      "text/plain": [
       "(0.7965043695380774, 0.8077403245942572, 0.8289637952559301)"
      ]
     },
     "execution_count": 378,
     "metadata": {},
     "output_type": "execute_result"
    }
   ],
   "source": [
    "lr_model.score(X_train,y_train),LDA.score(X_train,y_train),KNN.score(X_train,y_train)"
   ]
  },
  {
   "cell_type": "markdown",
   "id": "03b3e9ea",
   "metadata": {},
   "source": [
    "# Optimisation"
   ]
  },
  {
   "cell_type": "code",
   "execution_count": 379,
   "id": "2a5f2cc4",
   "metadata": {},
   "outputs": [],
   "source": [
    "from sklearn.model_selection import GridSearchCV"
   ]
  },
  {
   "cell_type": "markdown",
   "id": "76ad53c5",
   "metadata": {},
   "source": [
    "### Logistic Regression"
   ]
  },
  {
   "cell_type": "code",
   "execution_count": 380,
   "id": "1e1c04c6",
   "metadata": {},
   "outputs": [
    {
     "name": "stdout",
     "output_type": "stream",
     "text": [
      "tuned hpyerparameters :(best parameters)  {'C': 0.1, 'penalty': 'l2'}\n",
      "Accuracy for our training dataset with tuning is : 80.90%\n"
     ]
    }
   ],
   "source": [
    "grid={\"C\":np.logspace(-3,3,10), \"penalty\":[\"l1\",\"l2\",\"elasticnet\"]}# l1 lasso l2 ridge\n",
    "logreg=LogisticRegression()\n",
    "logreg_cv=GridSearchCV(logreg,grid,cv=10)\n",
    "logreg_cv.fit(X_train,y_train)\n",
    "\n",
    "print(\"tuned hpyerparameters :(best parameters) \",logreg_cv.best_params_)\n",
    "\n",
    "print(\"Accuracy for our training dataset with tuning is : {:.2%}\".format(logreg_cv.best_score_) )"
   ]
  },
  {
   "cell_type": "code",
   "execution_count": 381,
   "id": "cf9ee5d2",
   "metadata": {},
   "outputs": [
    {
     "name": "stdout",
     "output_type": "stream",
     "text": [
      "              precision    recall  f1-score   support\n",
      "\n",
      "           0       0.70      0.85      0.77        47\n",
      "           1       0.79      0.60      0.68        43\n",
      "\n",
      "    accuracy                           0.73        90\n",
      "   macro avg       0.74      0.73      0.73        90\n",
      "weighted avg       0.74      0.73      0.73        90\n",
      "\n"
     ]
    }
   ],
   "source": [
    "y_predict=logreg_cv.predict(X_valid)\n",
    "\n",
    "print(classification_report(y_valid,y_predict))"
   ]
  },
  {
   "cell_type": "markdown",
   "id": "3f1c6a22",
   "metadata": {},
   "source": [
    "### Submission"
   ]
  },
  {
   "cell_type": "code",
   "execution_count": 382,
   "id": "03b41968",
   "metadata": {},
   "outputs": [],
   "source": [
    "submi_lr=pd.read_csv(\"gender_submission.csv\")\n",
    "\n",
    "submi_lr[\"Survived\"]=logreg_cv.predict(test_titanic_numeric)"
   ]
  },
  {
   "cell_type": "code",
   "execution_count": 383,
   "id": "42c158c3",
   "metadata": {},
   "outputs": [],
   "source": [
    "submi_lr.to_csv(\"submi_lr.csv\",index=False)"
   ]
  },
  {
   "cell_type": "markdown",
   "id": "fab26b1f",
   "metadata": {},
   "source": [
    "### KNeighborsClassifier"
   ]
  },
  {
   "cell_type": "code",
   "execution_count": 384,
   "id": "2e438afb",
   "metadata": {},
   "outputs": [
    {
     "name": "stdout",
     "output_type": "stream",
     "text": [
      "Fitting 10 folds for each of 30 candidates, totalling 300 fits\n",
      "{'n_neighbors': 5}\n",
      "Accuracy for our training dataset with tuning is : 71.28%\n"
     ]
    }
   ],
   "source": [
    "KNN = KNeighborsClassifier()\n",
    "k_range = list(range(1, 31))\n",
    "param_grid = dict(n_neighbors=k_range)\n",
    "  \n",
    "# defining parameter range\n",
    "grid = GridSearchCV(KNN, param_grid, cv=10, scoring='accuracy', return_train_score=False,verbose=1)\n",
    "  \n",
    "# fitting the model for grid search\n",
    "grid_search_knn=grid.fit(X_train, y_train)\n",
    "\n",
    "\n",
    "print(grid_search_knn.best_params_)\n",
    "\n",
    "print(\"Accuracy for our training dataset with tuning is : {:.2%}\".format(grid_search_knn.best_score_) )"
   ]
  },
  {
   "cell_type": "code",
   "execution_count": 385,
   "id": "1732cb8c",
   "metadata": {},
   "outputs": [
    {
     "name": "stdout",
     "output_type": "stream",
     "text": [
      "              precision    recall  f1-score   support\n",
      "\n",
      "           0       0.62      0.83      0.71        47\n",
      "           1       0.70      0.44      0.54        43\n",
      "\n",
      "    accuracy                           0.64        90\n",
      "   macro avg       0.66      0.64      0.63        90\n",
      "weighted avg       0.66      0.64      0.63        90\n",
      "\n"
     ]
    }
   ],
   "source": [
    "y_predict=grid_search_knn.predict(X_valid)\n",
    "\n",
    "print(classification_report(y_valid,y_predict))"
   ]
  },
  {
   "cell_type": "markdown",
   "id": "49c60959",
   "metadata": {},
   "source": [
    "### Submission"
   ]
  },
  {
   "cell_type": "code",
   "execution_count": 386,
   "id": "f4edd3c9",
   "metadata": {},
   "outputs": [],
   "source": [
    "submi_knn=pd.read_csv(\"gender_submission.csv\")\n",
    "\n",
    "submi_knn[\"Survived\"]=grid_search_knn.predict(test_titanic_numeric)"
   ]
  },
  {
   "cell_type": "code",
   "execution_count": 387,
   "id": "df6ee02e",
   "metadata": {},
   "outputs": [],
   "source": [
    "submi_knn.to_csv(\"submi_knn.csv\",index=False)"
   ]
  },
  {
   "cell_type": "markdown",
   "id": "7a9ece4e",
   "metadata": {},
   "source": [
    "### LinearDiscriminantAnalysis "
   ]
  },
  {
   "cell_type": "code",
   "execution_count": 388,
   "id": "47120ee6",
   "metadata": {},
   "outputs": [
    {
     "name": "stdout",
     "output_type": "stream",
     "text": [
      "{'solver': 'svd'}\n",
      "Accuracy for our training dataset with tuning is : 79.65%\n"
     ]
    }
   ],
   "source": [
    "grid=dict()\n",
    "grid['solver']=['svd', 'lsqr', 'eigen']\n",
    "\n",
    "lda_search=GridSearchCV(LDA, grid, scoring='accuracy', cv=10, n_jobs=-1 )\n",
    "\n",
    "lda_search.fit(X_train,y_train)\n",
    "\n",
    "print(lda_search.best_params_)\n",
    "\n",
    "print(\"Accuracy for our training dataset with tuning is : {:.2%}\".format(lda_search.best_score_) )"
   ]
  },
  {
   "cell_type": "code",
   "execution_count": 389,
   "id": "b1e8a8a3",
   "metadata": {},
   "outputs": [
    {
     "name": "stdout",
     "output_type": "stream",
     "text": [
      "              precision    recall  f1-score   support\n",
      "\n",
      "           0       0.69      0.85      0.76        47\n",
      "           1       0.78      0.58      0.67        43\n",
      "\n",
      "    accuracy                           0.72        90\n",
      "   macro avg       0.74      0.72      0.71        90\n",
      "weighted avg       0.73      0.72      0.72        90\n",
      "\n"
     ]
    }
   ],
   "source": [
    "y_predict=lda_search.predict(X_valid)\n",
    "\n",
    "print(classification_report(y_valid,y_predict))"
   ]
  },
  {
   "cell_type": "markdown",
   "id": "e1439b1c",
   "metadata": {},
   "source": [
    "### Submission"
   ]
  },
  {
   "cell_type": "code",
   "execution_count": 390,
   "id": "f8462607",
   "metadata": {},
   "outputs": [],
   "source": [
    "submi_lda=pd.read_csv(\"gender_submission.csv\")\n",
    "submi_lda[\"Survived\"]=lda_search.predict(test_titanic_numeric)"
   ]
  },
  {
   "cell_type": "code",
   "execution_count": 391,
   "id": "327dea0a",
   "metadata": {},
   "outputs": [],
   "source": [
    "submi_lda.to_csv(\"submi_lda.csv\",index=False)"
   ]
  }
 ],
 "metadata": {
  "kernelspec": {
   "display_name": "Python 3.9.14 64-bit ('3.9.14')",
   "language": "python",
   "name": "python3"
  },
  "language_info": {
   "codemirror_mode": {
    "name": "ipython",
    "version": 3
   },
   "file_extension": ".py",
   "mimetype": "text/x-python",
   "name": "python",
   "nbconvert_exporter": "python",
   "pygments_lexer": "ipython3",
   "version": "3.9.14"
  },
  "vscode": {
   "interpreter": {
    "hash": "9b51932b85eb61d61256980453aff19f4b3fb51a4f18cfee8210c742a88c8ee3"
   }
  }
 },
 "nbformat": 4,
 "nbformat_minor": 5
}
